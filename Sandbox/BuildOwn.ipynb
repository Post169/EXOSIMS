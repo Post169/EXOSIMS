{
 "cells": [
  {
   "cell_type": "code",
   "execution_count": 1,
   "id": "ca738c73-8b09-4ae4-b54c-6839f8d2a390",
   "metadata": {},
   "outputs": [],
   "source": [
    "import EXOSIMS.MissionSim\n",
    "import numpy as np"
   ]
  },
  {
   "cell_type": "code",
   "execution_count": 2,
   "id": "a6f29f17-491d-4192-8867-238963b43edb",
   "metadata": {},
   "outputs": [
    {
     "name": "stdout",
     "output_type": "stream",
     "text": [
      "Imported SurveySimulation (prototype) from EXOSIMS.Prototypes.SurveySimulation\n",
      "Numpy random seed is: 579181083\n",
      "Imported SimulatedUniverse (prototype) from EXOSIMS.Prototypes.SimulatedUniverse\n",
      "Imported TargetList (prototype) from EXOSIMS.Prototypes.TargetList\n",
      "Imported EXOCAT1 (implementation) from EXOSIMS.StarCatalog.EXOCAT1\n",
      "Imported OpticalSystem (prototype) from EXOSIMS.Prototypes.OpticalSystem\n",
      "Imported ZodiacalLight (prototype) from EXOSIMS.Prototypes.ZodiacalLight\n",
      "Imported PostProcessing (prototype) from EXOSIMS.Prototypes.PostProcessing\n",
      "Imported BackgroundSources (prototype) from EXOSIMS.Prototypes.BackgroundSources\n",
      "Imported Completeness (prototype) from EXOSIMS.Prototypes.Completeness\n",
      "Imported EarthTwinHabZone2 (implementation) from EXOSIMS.PlanetPopulation.EarthTwinHabZone2\n",
      "Imported PlanetPhysicalModel (prototype) from EXOSIMS.Prototypes.PlanetPhysicalModel\n"
     ]
    },
    {
     "name": "stderr",
     "output_type": "stream",
     "text": [
      "Computing star fluxes: 100%|███████████████████████████████████████████████████████| 2193/2193 [00:30<00:00, 72.73it/s]\n"
     ]
    },
    {
     "name": "stdout",
     "output_type": "stream",
     "text": [
      "Star fluxes stored in C:\\Users\\david\\.EXOSIMS\\cache\\TargetList_EXOCAT1_nStars_2193_mode_0c8cf048d0dcc1d15402fcbe2d381ce8.star_fluxes\n",
      "Calculating intCutoff_dMag\n",
      "intCutoff_dMag values stored in C:\\Users\\david\\.EXOSIMS\\cache\\TargetList_EXOCAT1_OpticalSystem_ZodiacalLight_vals_4f802b4df62ab4f8b5007f2dcc33e631_mode_0c8cf048d0dcc1d15402fcbe2d381ce8.intCutoff_dMag\n",
      "Calculating the integration cutoff time completeness\n",
      "intCutoff_comp values stored in C:\\Users\\david\\.EXOSIMS\\cache\\TargetList_EXOCAT1_Completeness_vals_8781225e70cb22e766385048b3a16b7d.intCutoff_comp\n",
      "Imported Observatory (prototype) from EXOSIMS.Prototypes.Observatory\n",
      "Imported TimeKeeping (prototype) from EXOSIMS.Prototypes.TimeKeeping\n",
      "OBendTimes is: [36.525] d\n",
      "Cached keepout map file not found at \"C:\\Users\\david\\.EXOSIMS\\cache\\koMap_430742247217082e6068a615085ef591.komap\".\n",
      "Starting keepout calculations for 297 stars.\n"
     ]
    },
    {
     "name": "stderr",
     "output_type": "stream",
     "text": [
      "Starlight Suppression System:   0%|                                                              | 0/1 [00:00<?, ?it/s]\n",
      "Star Keepout:   0%|                                                                            | 0/297 [00:00<?, ?it/s]\u001b[A\n",
      "Star Keepout:  12%|███████▊                                                          | 35/297 [00:00<00:00, 343.12it/s]\u001b[A\n",
      "Star Keepout:  24%|███████████████▌                                                  | 70/297 [00:00<00:00, 333.51it/s]\u001b[A\n",
      "Star Keepout:  35%|██████████████████████▊                                          | 104/297 [00:00<00:00, 336.25it/s]\u001b[A\n",
      "Star Keepout:  46%|██████████████████████████████▏                                  | 138/297 [00:00<00:00, 336.41it/s]\u001b[A\n",
      "Star Keepout:  58%|█████████████████████████████████████▋                           | 172/297 [00:00<00:00, 337.68it/s]\u001b[A\n",
      "Star Keepout:  70%|█████████████████████████████████████████████▎                   | 207/297 [00:00<00:00, 338.41it/s]\u001b[A\n",
      "Star Keepout:  81%|████████████████████████████████████████████████████▋            | 241/297 [00:00<00:00, 336.24it/s]\u001b[A\n",
      "Star Keepout:  93%|████████████████████████████████████████████████████████████▍    | 276/297 [00:00<00:00, 337.38it/s]\u001b[A\n",
      "Starlight Suppression System: 100%|██████████████████████████████████████████████████████| 1/1 [00:00<00:00,  1.13it/s]\u001b[A\n"
     ]
    },
    {
     "name": "stdout",
     "output_type": "stream",
     "text": [
      "Keepout Map calculations finished\n",
      "Keepout Map array stored in 'C:\\\\Users\\\\david\\\\.EXOSIMS\\\\cache\\\\koMap_430742247217082e6068a615085ef591.komap'\n",
      "coronagraph\n",
      "Calculating fZ for coronagraph\n",
      "Saved cached fZ to C:\\Users\\david\\.EXOSIMS\\cache\\CompletenessTargetListOpticalSystem65da9d319289ea6e6dfa373d865cd623_297_coronagraph.starkfZ\n",
      "Saved cached fZmins to C:\\Users\\david\\.EXOSIMS\\cache\\CompletenessTargetListOpticalSystem65da9d319289ea6e6dfa373d865cd623_297_coronagraph.fZmin\n",
      "Imported SurveyEnsemble (prototype) from EXOSIMS.Prototypes.SurveyEnsemble\n",
      "\n",
      "The following keywords are used in multiple inits (this is ok):\n",
      "\tcachedir\n",
      "\tconstrainOrbits\n",
      "\terange\n",
      "\teta\n",
      "\tmissionStart\n",
      "\n",
      "138 keywords were set to their default values.\n"
     ]
    },
    {
     "name": "stderr",
     "output_type": "stream",
     "text": [
      "c:\\users\\david\\documents\\github\\exosims\\EXOSIMS\\MissionSim.py:278: UserWarning: \n",
      "The following init keywords were not found in any outspec:\n",
      "\t     debug_plot_path (SurveySimulation)\n",
      "\tmake_debug_bird_plots (SurveySimulation)\n",
      "\n",
      "  warnings.warn(warnstr)\n"
     ]
    }
   ],
   "source": [
    "sim = EXOSIMS.MissionSim.MissionSim('test.json')"
   ]
  },
  {
   "cell_type": "code",
   "execution_count": 3,
   "id": "7d67aa85-8d9d-4230-a88c-a16fe3f262db",
   "metadata": {},
   "outputs": [
    {
     "name": "stdout",
     "output_type": "stream",
     "text": [
      "297\n",
      "[ 45  54  56  64  71  74  91  91  92  99 138 193 203 204 207 210 215 217\n",
      " 225 225 227 231 236 260 272 277 278 296]\n"
     ]
    }
   ],
   "source": [
    "print(sim.TargetList.nStars)\n",
    "print(sim.SimulatedUniverse.plan2star)"
   ]
  },
  {
   "cell_type": "code",
   "execution_count": 4,
   "id": "37083029-5eeb-4d3b-b890-dcb519e8356f",
   "metadata": {},
   "outputs": [
    {
     "name": "stdout",
     "output_type": "stream",
     "text": [
      "[0.  0.3]\n"
     ]
    }
   ],
   "source": [
    "print(sim.PlanetPopulation.erange)"
   ]
  },
  {
   "cell_type": "code",
   "execution_count": 7,
   "id": "ef7096b7-6056-499f-9ebb-b9090f2bc960",
   "metadata": {},
   "outputs": [
    {
     "name": "stdout",
     "output_type": "stream",
     "text": [
      "['4.477e-04', '2.951e-01']\n",
      "[0.00044772467341818887, 0.2950933504445915]\n"
     ]
    }
   ],
   "source": [
    "print([np.format_float_scientific(sim.SimulatedUniverse.e.min(), precision=3), np.format_float_scientific(sim.SimulatedUniverse.e.max(), precision=3)])\n",
    "print([sim.SimulatedUniverse.e.min(),sim.SimulatedUniverse.e.max()])"
   ]
  },
  {
   "cell_type": "code",
   "execution_count": null,
   "id": "dfaf9ce4-d796-4272-b1a3-b57687c39134",
   "metadata": {},
   "outputs": [],
   "source": []
  },
  {
   "cell_type": "code",
   "execution_count": null,
   "id": "4ffd0912-3c70-43ef-a4b7-3800fa05fef8",
   "metadata": {},
   "outputs": [],
   "source": []
  },
  {
   "cell_type": "raw",
   "id": "a72da39e-2924-4a04-946b-b5ac45c18e63",
   "metadata": {},
   "source": [
    "scriptfile = os.path.join(EXOSIMS.__path__[0],'Scripts','sampleScript_coron.json')\n",
    "sim = EXOSIMS.MissionSim.MissionSim(scriptfile)"
   ]
  },
  {
   "cell_type": "raw",
   "id": "4eff9e75-2075-42d0-96bf-7967d3905b04",
   "metadata": {},
   "source": [
    "sim.run_sim()"
   ]
  },
  {
   "cell_type": "raw",
   "id": "b2de3008-ca9a-44e0-93ab-facf02ee4813",
   "metadata": {},
   "source": [
    "DRM = sim.SurveySimulation.DRM\n",
    "print(DRM)"
   ]
  },
  {
   "cell_type": "raw",
   "id": "7c36a0b3-e519-4b38-9507-ed4d3d90c6fe",
   "metadata": {},
   "source": [
    "sim.reset_sim(genNewPlanets=True, rewindPlanets=True)"
   ]
  },
  {
   "cell_type": "raw",
   "id": "c518e848-a0c2-4916-8afb-30ed7604b7d0",
   "metadata": {},
   "source": [
    "sim.run_sim()"
   ]
  },
  {
   "cell_type": "raw",
   "id": "4ccfd6a2-dee2-4f66-8490-9bfdd979a801",
   "metadata": {},
   "source": [
    "sim.reset_sim()\n",
    "N = 100\n",
    "ens = sim.run_ensemble(N, genNewPlanets=True, rewindPlanets=True)"
   ]
  },
  {
   "cell_type": "raw",
   "id": "6ca2d4b6-820a-4f70-bbf4-373354c07838",
   "metadata": {},
   "source": [
    "nb_obs = []\n",
    "for i in range(N):\n",
    "    DRM = ens[i]\n",
    "    nb_obs.append(len(DRM))"
   ]
  }
 ],
 "metadata": {
  "kernelspec": {
   "display_name": "Python 3 (ipykernel)",
   "language": "python",
   "name": "python3"
  },
  "language_info": {
   "codemirror_mode": {
    "name": "ipython",
    "version": 3
   },
   "file_extension": ".py",
   "mimetype": "text/x-python",
   "name": "python",
   "nbconvert_exporter": "python",
   "pygments_lexer": "ipython3",
   "version": "3.10.15"
  }
 },
 "nbformat": 4,
 "nbformat_minor": 5
}

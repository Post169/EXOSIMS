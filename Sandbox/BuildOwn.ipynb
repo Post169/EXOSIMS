{
 "cells": [
  {
   "cell_type": "code",
   "execution_count": 1,
   "id": "ca738c73-8b09-4ae4-b54c-6839f8d2a390",
   "metadata": {},
   "outputs": [],
   "source": [
    "import EXOSIMS.MissionSim\n",
    "import numpy as np"
   ]
  },
  {
   "cell_type": "code",
   "execution_count": 2,
   "id": "a6f29f17-491d-4192-8867-238963b43edb",
   "metadata": {},
   "outputs": [
    {
     "name": "stdout",
     "output_type": "stream",
     "text": [
      "Imported SurveySimulation (prototype) from EXOSIMS.Prototypes.SurveySimulation\n",
      "Numpy random seed is: 400900473\n",
      "Imported SimulatedUniverse (prototype) from EXOSIMS.Prototypes.SimulatedUniverse\n",
      "Imported TargetList (prototype) from EXOSIMS.Prototypes.TargetList\n",
      "Imported EXOCAT1 (implementation) from EXOSIMS.StarCatalog.EXOCAT1\n",
      "Imported OpticalSystem (prototype) from EXOSIMS.Prototypes.OpticalSystem\n",
      "Imported ZodiacalLight (prototype) from EXOSIMS.Prototypes.ZodiacalLight\n",
      "Imported PostProcessing (prototype) from EXOSIMS.Prototypes.PostProcessing\n",
      "Imported BackgroundSources (prototype) from EXOSIMS.Prototypes.BackgroundSources\n",
      "Imported Completeness (prototype) from EXOSIMS.Prototypes.Completeness\n",
      "Imported EarthTwinHabZone2 (implementation) from EXOSIMS.PlanetPopulation.EarthTwinHabZone2\n",
      "Imported PlanetPhysicalModel (prototype) from EXOSIMS.Prototypes.PlanetPhysicalModel\n",
      "Loaded star fluxes values from C:\\Users\\david\\.EXOSIMS\\cache\\TargetList_EXOCAT1_nStars_2193_mode_0c8cf048d0dcc1d15402fcbe2d381ce8.star_fluxes\n",
      "Loaded intCutoff_dMag values from C:\\Users\\david\\.EXOSIMS\\cache\\TargetList_EXOCAT1_OpticalSystem_ZodiacalLight_vals_4f802b4df62ab4f8b5007f2dcc33e631_mode_0c8cf048d0dcc1d15402fcbe2d381ce8.intCutoff_dMag\n",
      "Loaded intCutoff_comp values from C:\\Users\\david\\.EXOSIMS\\cache\\TargetList_EXOCAT1_Completeness_vals_8781225e70cb22e766385048b3a16b7d.intCutoff_comp\n",
      "Imported Observatory (prototype) from EXOSIMS.Prototypes.Observatory\n",
      "Imported TimeKeeping (prototype) from EXOSIMS.Prototypes.TimeKeeping\n",
      "OBendTimes is: [36.525] d\n",
      "Loading cached keepout map file from C:\\Users\\david\\.EXOSIMS\\cache\\koMap_430742247217082e6068a615085ef591.komap\n",
      "Keepout Map loaded from cache.\n",
      "coronagraph\n",
      "Loading cached fZ from C:\\Users\\david\\.EXOSIMS\\cache\\CompletenessTargetListOpticalSystem65da9d319289ea6e6dfa373d865cd623_297_coronagraph.starkfZ\n",
      "Loading cached fZmins from C:\\Users\\david\\.EXOSIMS\\cache\\CompletenessTargetListOpticalSystem65da9d319289ea6e6dfa373d865cd623_297_coronagraph.fZmin\n",
      "Imported SurveyEnsemble (prototype) from EXOSIMS.Prototypes.SurveyEnsemble\n",
      "\n",
      "The following keywords are used in multiple inits (this is ok):\n",
      "\tcachedir\n",
      "\tconstrainOrbits\n",
      "\terange\n",
      "\teta\n",
      "\tmissionStart\n",
      "\n",
      "138 keywords were set to their default values.\n"
     ]
    },
    {
     "name": "stderr",
     "output_type": "stream",
     "text": [
      "c:\\users\\david\\documents\\github\\exosims\\EXOSIMS\\MissionSim.py:278: UserWarning: \n",
      "The following init keywords were not found in any outspec:\n",
      "\tmake_debug_bird_plots (SurveySimulation)\n",
      "\t     debug_plot_path (SurveySimulation)\n",
      "\n",
      "  warnings.warn(warnstr)\n"
     ]
    }
   ],
   "source": [
    "sim = EXOSIMS.MissionSim.MissionSim('test.json')"
   ]
  },
  {
   "cell_type": "code",
   "execution_count": 3,
   "id": "7d67aa85-8d9d-4230-a88c-a16fe3f262db",
   "metadata": {},
   "outputs": [
    {
     "name": "stdout",
     "output_type": "stream",
     "text": [
      "297\n",
      "[  9   9  21  69  74  95  96 114 119 128 154 157 160 173 175 188 198 201\n",
      " 205 219 240 253 255 267 285]\n"
     ]
    }
   ],
   "source": [
    "print(sim.TargetList.nStars)\n",
    "print(sim.SimulatedUniverse.plan2star)"
   ]
  },
  {
   "cell_type": "code",
   "execution_count": 4,
   "id": "37083029-5eeb-4d3b-b890-dcb519e8356f",
   "metadata": {},
   "outputs": [
    {
     "name": "stdout",
     "output_type": "stream",
     "text": [
      "[0.  0.3]\n"
     ]
    }
   ],
   "source": [
    "print(sim.PlanetPopulation.erange)"
   ]
  },
  {
   "cell_type": "code",
   "execution_count": 5,
   "id": "ef7096b7-6056-499f-9ebb-b9090f2bc960",
   "metadata": {},
   "outputs": [
    {
     "name": "stdout",
     "output_type": "stream",
     "text": [
      "['5.737e-04', '2.527e-01']\n",
      "[0.0005737007839069814, 0.2527087345491728]\n"
     ]
    }
   ],
   "source": [
    "print([np.format_float_scientific(sim.SimulatedUniverse.e.min(), precision=3), np.format_float_scientific(sim.SimulatedUniverse.e.max(), precision=3)])\n",
    "print([sim.SimulatedUniverse.e.min(),sim.SimulatedUniverse.e.max()])"
   ]
  },
  {
   "cell_type": "code",
   "execution_count": 6,
   "id": "dfaf9ce4-d796-4272-b1a3-b57687c39134",
   "metadata": {},
   "outputs": [
    {
     "name": "stdout",
     "output_type": "stream",
     "text": [
      "True\n",
      "True\n"
     ]
    }
   ],
   "source": [
    "Ls = sim.TargetList.L[sim.SimulatedUniverse.plan2star]\n",
    "smas = sim.SimulatedUniverse.a/np.sqrt(Ls)\n",
    "print(np.all((smas <= sim.PlanetPopulation.arange[1]) & (smas >= sim.PlanetPopulation.arange[0])))\n",
    "print(np.all((smas*(1+sim.SimulatedUniverse.e) <= sim.PlanetPopulation.arange[1]) & (smas*(1-sim.SimulatedUniverse.e) >= sim.PlanetPopulation.arange[0])))"
   ]
  },
  {
   "cell_type": "code",
   "execution_count": null,
   "id": "4ffd0912-3c70-43ef-a4b7-3800fa05fef8",
   "metadata": {},
   "outputs": [],
   "source": []
  },
  {
   "cell_type": "raw",
   "id": "a72da39e-2924-4a04-946b-b5ac45c18e63",
   "metadata": {},
   "source": [
    "scriptfile = os.path.join(EXOSIMS.__path__[0],'Scripts','sampleScript_coron.json')\n",
    "sim = EXOSIMS.MissionSim.MissionSim(scriptfile)"
   ]
  },
  {
   "cell_type": "raw",
   "id": "4eff9e75-2075-42d0-96bf-7967d3905b04",
   "metadata": {},
   "source": [
    "sim.run_sim()"
   ]
  },
  {
   "cell_type": "raw",
   "id": "b2de3008-ca9a-44e0-93ab-facf02ee4813",
   "metadata": {},
   "source": [
    "DRM = sim.SurveySimulation.DRM\n",
    "print(DRM)"
   ]
  },
  {
   "cell_type": "raw",
   "id": "7c36a0b3-e519-4b38-9507-ed4d3d90c6fe",
   "metadata": {},
   "source": [
    "sim.reset_sim(genNewPlanets=True, rewindPlanets=True)"
   ]
  },
  {
   "cell_type": "raw",
   "id": "c518e848-a0c2-4916-8afb-30ed7604b7d0",
   "metadata": {},
   "source": [
    "sim.run_sim()"
   ]
  },
  {
   "cell_type": "raw",
   "id": "4ccfd6a2-dee2-4f66-8490-9bfdd979a801",
   "metadata": {},
   "source": [
    "sim.reset_sim()\n",
    "N = 100\n",
    "ens = sim.run_ensemble(N, genNewPlanets=True, rewindPlanets=True)"
   ]
  },
  {
   "cell_type": "raw",
   "id": "6ca2d4b6-820a-4f70-bbf4-373354c07838",
   "metadata": {},
   "source": [
    "nb_obs = []\n",
    "for i in range(N):\n",
    "    DRM = ens[i]\n",
    "    nb_obs.append(len(DRM))"
   ]
  }
 ],
 "metadata": {
  "kernelspec": {
   "display_name": "Python 3 (ipykernel)",
   "language": "python",
   "name": "python3"
  },
  "language_info": {
   "codemirror_mode": {
    "name": "ipython",
    "version": 3
   },
   "file_extension": ".py",
   "mimetype": "text/x-python",
   "name": "python",
   "nbconvert_exporter": "python",
   "pygments_lexer": "ipython3",
   "version": "3.10.15"
  }
 },
 "nbformat": 4,
 "nbformat_minor": 5
}
